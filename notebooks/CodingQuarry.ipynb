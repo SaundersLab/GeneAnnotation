{
 "cells": [
  {
   "cell_type": "code",
   "execution_count": 1,
   "metadata": {},
   "outputs": [],
   "source": [
    "import bioluigi.tasks \n",
    "from bioluigi.utils import get_ext\n",
    "from bioluigi.decorators import requires, inherits\n",
    "import luigi\n",
    "import os,re\n",
    "from luigi import LocalTarget, Parameter\n",
    "import pandas as pd\n",
    "import numpy as np"
   ]
  },
  {
   "cell_type": "code",
   "execution_count": 2,
   "metadata": {},
   "outputs": [],
   "source": [
    "def parseHISATLog(logfile, lib):\n",
    "    '''Parse the star Log.final.out file :param: logfile for the library :param: lib\n",
    "       returns a pandas.Series of the fields defined in keep'''\n",
    "\n",
    "    keep = [\n",
    "    'Total pairs',\n",
    "    'Aligned concordantly 1 time',\n",
    "    'Aligned concordantly >1 times',\n",
    "    'Aligned 1 time',\n",
    "    'Aligned >1 times',\n",
    "    ]\n",
    "\n",
    "    try:\n",
    "        s = pd.Series()\n",
    "        with open(logfile, 'r') as f:\n",
    "            for line in f:\n",
    "                split = line.strip().split(\":\", 1)\n",
    "                if split[0].strip() == 'Completed':\n",
    "                    s['datetime'] = split[1].strip()\n",
    "\n",
    "                elif split[0] in keep:\n",
    "                    n = re.findall('^([0-9]+)', split[1].strip())\n",
    "                    if len(n) > 0:\n",
    "                        s[split[0]] = int(n[0])\n",
    "                    pc = re.findall(\"(\\d+\\.\\d+)\\\\%\", split[1].strip())\n",
    "                    if len(pc) > 0:\n",
    "                        s[split[0] + ' %'] = float(pc[0])\n",
    "                elif split[0] == 'Overall alignment rate':\n",
    "                    s[split[0]] =  float(re.findall(\"(\\d+\\.\\d+)\\\\%\", split[1].strip())[0])\n",
    "\n",
    "    except FileNotFoundError:\n",
    "        s = pd.Series(dict(zip(keep, [float('nan')] * len(keep))))\n",
    "\n",
    "    s['Library'] = lib\n",
    "    return s"
   ]
  },
  {
   "cell_type": "code",
   "execution_count": 3,
   "metadata": {},
   "outputs": [],
   "source": [
    "timecourse_libs  = ['ERR1224553','ERR1224554','ERR1224555','ERR1224556','ERR1224557',\n",
    "                    'ERR1224558','ERR1224559','ERR1224560','ERR1224561','ERR1224562',\n",
    "                    'ERR1224563','ERR1224564','ERR1224565','ERR1224566','ERR1224567',\n",
    "                    'ERR1224568','ERR1224569','ERR1224570','ERR1224571','ERR1224572',\n",
    "                    'ERR1224573','ERR1224574','ERR1224575','ERR1224576','ERR1224577',\n",
    "                    'ERR1224578','ERR1224579','ERR1224580','ERR1224581','ERR1224582',\n",
    "                    'ERR1224583','ERR1224584','ERR1224585','ERR1224586','ERR1224587',\n",
    "                    'ERR1224588','ERR1224589','ERR1224590','ERR1224591','ERR1224592',\n",
    "                    'ERR1224593','ERR1224594']\n",
    "lib_path = '/nbi/Research-Groups/JIC/Diane-Saunders/YR_2018_genome_annotation/timecourse_rnaseq_data'\n",
    "scratch_dir = '/nbi/scratch/buntingd/genome_annotation_PST104/'\n",
    "base_dir = '/usr/users/JIC_a1/buntingd/GenomeAnnotation/PST104/data/'\n",
    "\n",
    "\n",
    "class GetFastq(luigi.ExternalTask):\n",
    "    library = Parameter()\n",
    "    def output(self):\n",
    "        return [LocalTarget(os.path.join(lib_path, self.library + '_1.fastq')),\n",
    "                LocalTarget(os.path.join(lib_path, self.library + '_2.fastq'))]\n",
    "    \n",
    "class ReferenceFasta(luigi.ExternalTask):\n",
    "    reference = luigi.Parameter()\n",
    "    def output(self):\n",
    "        return LocalTarget(self.reference)\n",
    "\n",
    "@requires(ReferenceFasta)\n",
    "class RepeatMasker(bioluigi.tasks.repeatmodeler.RepeatMasker):\n",
    "    pass\n",
    "\n",
    "@requires(ReferenceFasta)\n",
    "class HISATIndexGenome(bioluigi.tasks.hisat.HISATIndexGenome):\n",
    "    pass\n",
    "\n",
    "@requires(reads=GetFastq, genome=HISATIndexGenome)\n",
    "class HISAT(bioluigi.tasks.hisat.HISAT):\n",
    "    def output(self):\n",
    "        return {'hisat_bam': LocalTarget(os.path.join(scratch_dir, self.library, self.library + '.bam')),\n",
    "                'hisat_log': LocalTarget(os.path.join(base_dir, self.library, self.library + '.hisat.log'))}\n",
    "\n",
    "@requires(HISAT)\n",
    "class Adaptor(luigi.WrapperTask):\n",
    "    def output(self):\n",
    "        return self.input()['hisat_bam']\n",
    "\n",
    "@requires(Adaptor)\n",
    "class SamtoolsSort(bioluigi.tasks.samtools.SamtoolsSort):\n",
    "    pass\n",
    "\n",
    "@requires(SamtoolsSort)\n",
    "class StringTie(bioluigi.tasks.stringtie.StringTie):\n",
    "    pass\n",
    "\n",
    "@inherits(StringTie, HISAT)\n",
    "class StringTieMerge(bioluigi.tasks.stringtie.StringTieMerge):\n",
    "    library = None\n",
    "    def requires(self):\n",
    "        logs = [parseHISATLog(self.clone(HISAT, library=lib).output()['hisat_log'].path, lib) for lib in timecourse_libs]\n",
    "        filtered = [x['Library'] for x in logs if x['Overall alignment rate'] > 0.1]   \n",
    "        print([(x['Library'],x['Overall alignment rate']) for x in logs if x['Overall alignment rate'] > 10]    )\n",
    "        return [self.clone(StringTie, library=lib) for lib in filtered]\n",
    "    def output(self):\n",
    "        return LocalTarget(os.path.join(base_dir, 'stringtie.gtf'))\n",
    "\n",
    "@requires(StringTieMerge)\n",
    "class GTFtoGFF3(bioluigi.tasks.misc.GTFtoGFF3):\n",
    "    pass            \n",
    "\n",
    "@requires(fasta=RepeatMasker, gff=GTFtoGFF3)\n",
    "class CodingQuarry(bioluigi.tasks.codingquarry.CodingQuarry):\n",
    "    def output(self):\n",
    "        return LocalTarget(os.path.join(base_dir, 'CodingQuarry'))\n",
    "\n",
    "@requires(fasta=RepeatMasker, gff=GTFtoGFF3)\n",
    "class CodingQuarryPM(bioluigi.tasks.codingquarry.CodingQuarryPM):\n",
    "    def output(self):\n",
    "        return LocalTarget(os.path.join(base_dir, 'CodingQuarry'))\n",
    "\n",
    "@requires(CodingQuarryPM)\n",
    "class ConcatGFF(bioluigi.tasks.codingquarry.ConcatGFF):\n",
    "    pass\n",
    "\n",
    "@requires(ConcatGFF)\n",
    "class FixGFF(bioluigi.tasks.codingquarry.FixGFF):\n",
    "    pass"
   ]
  },
  {
   "cell_type": "code",
   "execution_count": 6,
   "metadata": {
    "scrolled": false
   },
   "outputs": [
    {
     "name": "stderr",
     "output_type": "stream",
     "text": [
      "INFO: Informed scheduler that task   FixGFF__usr_users_JIC_a_2c99a42331   has status   DONE\n",
      "INFO: Done scheduling tasks\n",
      "INFO: Running Worker with 25 processes\n",
      "INFO: Worker Worker(salt=077415708, workers=25, host=n128n20.nbicluster, username=buntingd, pid=11917) was stopped. Shutting down Keep-Alive thread\n",
      "INFO: \n",
      "===== Luigi Execution Summary =====\n",
      "\n",
      "Scheduled 1 tasks of which:\n",
      "* 1 present dependencies were encountered:\n",
      "    - 1 FixGFF(...)\n",
      "\n",
      "Did not run any tasks\n",
      "This progress looks :) because there were no failed tasks or missing external dependencies\n",
      "\n",
      "===== Luigi Execution Summary =====\n",
      "\n"
     ]
    },
    {
     "data": {
      "text/plain": [
       "True"
      ]
     },
     "execution_count": 6,
     "metadata": {},
     "output_type": "execute_result"
    }
   ],
   "source": [
    "luigi.build([FixGFF(reference='/usr/users/JIC_a1/buntingd/GenomeAnnotation/PST104/reference/Pst_104E_v13_p_ctg.fa')],\n",
    "            workers=25,\n",
    "            local_scheduler=False,\n",
    "            scheduler_host='j512n1',\n",
    "            log_level='INFO')"
   ]
  },
  {
   "cell_type": "code",
   "execution_count": 4,
   "metadata": {},
   "outputs": [],
   "source": [
    "@requires(ReferenceFasta)\n",
    "class AddGenome(bioluigi.tasks.jbrowse.AddGenome):\n",
    "    pass\n",
    "\n",
    "class PST104Annotation(luigi.ExternalTask):\n",
    "    def output(self):\n",
    "        return LocalTarget(\"/usr/users/JIC_a1/buntingd/GenomeAnnotation/PST104/reference/Pst_104E_v13_p_ctg.anno.gff3\")\n",
    "    \n",
    "@requires(gff=PST104Annotation, genome=AddGenome)\n",
    "class AddGFF1(bioluigi.tasks.jbrowse.AddGFF):\n",
    "    pass\n",
    "\n",
    "@requires(gff=FixGFF, genome=AddGenome)\n",
    "class AddGFF2(bioluigi.tasks.jbrowse.AddGFF):\n",
    "    pass"
   ]
  },
  {
   "cell_type": "code",
   "execution_count": 8,
   "metadata": {},
   "outputs": [],
   "source": [
    "AddGFF1(reference='/usr/users/JIC_a1/buntingd/GenomeAnnotation/PST104/reference/Pst_104E_v13_p_ctg.fa',\n",
    "         jbrowse_dir='/usr/users/JIC_a1/buntingd/GenomeAnnotation/Jbrowse/JBrowse-1.15.0').run()"
   ]
  },
  {
   "cell_type": "code",
   "execution_count": null,
   "metadata": {},
   "outputs": [],
   "source": []
  },
  {
   "cell_type": "code",
   "execution_count": null,
   "metadata": {},
   "outputs": [],
   "source": []
  }
 ],
 "metadata": {
  "kernelspec": {
   "display_name": "Python 3",
   "language": "python",
   "name": "python3"
  },
  "language_info": {
   "codemirror_mode": {
    "name": "ipython",
    "version": 3
   },
   "file_extension": ".py",
   "mimetype": "text/x-python",
   "name": "python",
   "nbconvert_exporter": "python",
   "pygments_lexer": "ipython3",
   "version": "3.5.1"
  }
 },
 "nbformat": 4,
 "nbformat_minor": 2
}
